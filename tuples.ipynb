{
 "cells": [
  {
   "attachments": {},
   "cell_type": "markdown",
   "metadata": {},
   "source": [
    "# tuples"
   ]
  },
  {
   "attachments": {},
   "cell_type": "markdown",
   "metadata": {},
   "source": [
    "## 1.fundamentals of tuples "
   ]
  },
  {
   "attachments": {},
   "cell_type": "markdown",
   "metadata": {},
   "source": [
    "A tuple is a sequence of values. The values can be **any** type, and they are indexed by\n",
    "**integers**, so in that respect tuples are a lot like lists. The important difference is that tuples\n",
    "are **immutable**.\n"
   ]
  },
  {
   "attachments": {},
   "cell_type": "markdown",
   "metadata": {},
   "source": [
    "## 2. operations of tuples"
   ]
  },
  {
   "attachments": {},
   "cell_type": "markdown",
   "metadata": {},
   "source": [
    "### 2.1 tuple creation"
   ]
  },
  {
   "cell_type": "code",
   "execution_count": null,
   "metadata": {},
   "outputs": [],
   "source": [
    "# create a tuple\n",
    "t = (1, 2, 3, 4)\n",
    "# single element tuple\n",
    "t = ('a',)\n",
    "print(type(t))\n",
    "# without comma, it is not a tuple!\n",
    "t1 = ('a')\n",
    "print(type(t1))\n",
    "# empty tuple\n",
    "t = ()\n",
    "# the tuple() function to create an empty tuple\n",
    "t = tuple()\n",
    "print(t)\n",
    "# If the argument is a sequence (string, list or tuple), the result is a tuple with the elements of\n",
    "# the sequence\n",
    "t = tuple('lupins')\n",
    "print(t)\n"
   ]
  },
  {
   "attachments": {},
   "cell_type": "markdown",
   "metadata": {},
   "source": [
    "### 2.2 tuple operators"
   ]
  },
  {
   "cell_type": "code",
   "execution_count": null,
   "metadata": {},
   "outputs": [],
   "source": [
    "print(t[0])\n",
    "print(t[1:3])\n",
    "# t[0] = 'A' # TypeError: 'tuple' object does not support item assignment\n",
    "# tuple is immutable, but it can contain mutable objects\n"
   ]
  }
 ],
 "metadata": {
  "kernelspec": {
   "display_name": "base",
   "language": "python",
   "name": "python3"
  },
  "language_info": {
   "codemirror_mode": {
    "name": "ipython",
    "version": 3
   },
   "file_extension": ".py",
   "mimetype": "text/x-python",
   "name": "python",
   "nbconvert_exporter": "python",
   "pygments_lexer": "ipython3",
   "version": "3.10.9"
  },
  "orig_nbformat": 4
 },
 "nbformat": 4,
 "nbformat_minor": 2
}
