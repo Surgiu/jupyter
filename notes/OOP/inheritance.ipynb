{
 "cells": [
  {
   "attachments": {},
   "cell_type": "markdown",
   "metadata": {},
   "source": [
    "## inheritance"
   ]
  },
  {
   "attachments": {},
   "cell_type": "markdown",
   "metadata": {},
   "source": [
    "### class attributes vs. instance attributes"
   ]
  },
  {
   "attachments": {},
   "cell_type": "markdown",
   "metadata": {},
   "source": [
    "#### class attributes:"
   ]
  },
  {
   "attachments": {},
   "cell_type": "markdown",
   "metadata": {},
   "source": [
    "Variables which are defined inside a class but outside of any method, are called class attributes because they are associated with the **class object**.\n"
   ]
  },
  {
   "cell_type": "code",
   "execution_count": 4,
   "metadata": {},
   "outputs": [
    {
     "name": "stdout",
     "output_type": "stream",
     "text": [
      "spring is season 1\n"
     ]
    }
   ],
   "source": [
    "class seasons:\n",
    "    season_names = ['spring', 'summer', 'autumn', 'winter']\n",
    "    seasons_order = [1, 2, 3, 4]\n",
    "\n",
    "    def __init__(self, name, order):\n",
    "        self.name = name\n",
    "        self.order = order\n",
    "\n",
    "    def __str__(self):\n",
    "        return f'{self.name} is season {self.order}'\n",
    "\n",
    "sp = seasons('spring', 1)\n",
    "su = seasons('summer', 2)\n",
    "au = seasons('autumn', 3)\n",
    "wi = seasons('winter', 4)\n",
    "print(sp)"
   ]
  },
  {
   "attachments": {},
   "cell_type": "markdown",
   "metadata": {},
   "source": [
    "#### instance attributes:"
   ]
  },
  {
   "attachments": {},
   "cell_type": "markdown",
   "metadata": {},
   "source": [
    "class attributes distinguish them from other variables, which are called instance attributes because they are associated with **a particular instance**.\n"
   ]
  },
  {
   "cell_type": "code",
   "execution_count": 5,
   "metadata": {},
   "outputs": [
    {
     "name": "stdout",
     "output_type": "stream",
     "text": [
      "['March', 'April', 'May']\n"
     ]
    }
   ],
   "source": [
    "sp.months = ['March', 'April', 'May']\n",
    "print(sp.months)"
   ]
  },
  {
   "attachments": {},
   "cell_type": "markdown",
   "metadata": {},
   "source": [
    "### inheritance"
   ]
  },
  {
   "attachments": {},
   "cell_type": "markdown",
   "metadata": {},
   "source": [
    "Inheritance is the ability to define a new class that is a modified version of an existing class."
   ]
  },
  {
   "attachments": {},
   "cell_type": "markdown",
   "metadata": {},
   "source": [
    "#### create a child class\n"
   ]
  },
  {
   "cell_type": "code",
   "execution_count": 6,
   "metadata": {},
   "outputs": [],
   "source": [
    "class father:\n",
    "    \"\"\"this is a super class\"\"\"\n",
    "\n",
    "    def __init__(self, name):\n",
    "        self.name = name\n",
    "\n",
    "    def __str__(self):\n",
    "        return f'{self.name} is a father'\n",
    "\n",
    "\n",
    "class son(father):\n",
    "    \"\"\"this is a sub class\"\"\"\n",
    "\n",
    "    def __init__(self, name):\n",
    "        super().__init__(name)\n",
    "\n",
    "    def __str__(self):\n",
    "        return f'{self.name} is a son'"
   ]
  },
  {
   "attachments": {},
   "cell_type": "markdown",
   "metadata": {},
   "source": [
    "If we provide an init method in the sub class, it overrides the one in the super class"
   ]
  }
 ],
 "metadata": {
  "kernelspec": {
   "display_name": "base",
   "language": "python",
   "name": "python3"
  },
  "language_info": {
   "codemirror_mode": {
    "name": "ipython",
    "version": 3
   },
   "file_extension": ".py",
   "mimetype": "text/x-python",
   "name": "python",
   "nbconvert_exporter": "python",
   "pygments_lexer": "ipython3",
   "version": "3.10.13"
  },
  "orig_nbformat": 4
 },
 "nbformat": 4,
 "nbformat_minor": 2
}
