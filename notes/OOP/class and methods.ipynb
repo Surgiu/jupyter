{
 "cells": [
  {
   "attachments": {},
   "cell_type": "markdown",
   "metadata": {},
   "source": [
    "### 1.methods vs functions"
   ]
  },
  {
   "attachments": {},
   "cell_type": "markdown",
   "metadata": {},
   "source": [
    "Methods are semantically the same as functions, but there are two syntactic differences:\n",
    "\n",
    "• Methods are defined *inside a class definition* in order to make the relationship between the class and the method explicit.\n",
    "\n",
    "• The syntax for invoking a method is different from the syntax for calling a function."
   ]
  },
  {
   "attachments": {},
   "cell_type": "markdown",
   "metadata": {},
   "source": [
    "two ways to call a mothod:\n",
    "```python\n",
    "class Time:\n",
    "    def print_time(time):\n",
    "        print('%.2d:%.2d:%.2d' % (time.hour, time.minute, time.second))\n",
    "\n",
    "\n",
    "...\n",
    "Time.print_time(start)\n",
    "start.print_time()\n",
    "```\n",
    "\n",
    "both of them use **one** argument: 'start'"
   ]
  },
  {
   "attachments": {},
   "cell_type": "markdown",
   "metadata": {},
   "source": [
    "### 2. rewrite the time class"
   ]
  },
  {
   "cell_type": "code",
   "execution_count": 10,
   "metadata": {},
   "outputs": [
    {
     "name": "stdout",
     "output_type": "stream",
     "text": [
      "09:45:00\n",
      "10:07:17\n"
     ]
    }
   ],
   "source": [
    "class Time:\n",
    "    def print_time(self):\n",
    "        print('%.2d:%.2d:%.2d' % (self.hour, self.minute, self.second))\n",
    "    # by convention, the first parameter of a method is called self\n",
    "\n",
    "    def time_to_int(self):\n",
    "        minutes = self.hour * 60 + self.minute\n",
    "        seconds = minutes * 60 + self.second\n",
    "        return seconds\n",
    "\n",
    "    def int_to_time(self, seconds):\n",
    "        time = Time()\n",
    "        minutes, time.second = divmod(seconds, 60)\n",
    "        time.hour, time.minute = divmod(minutes, 60)\n",
    "        return time\n",
    "\n",
    "    def increment(self, seconds):\n",
    "        seconds += Time.time_to_int(self)\n",
    "        return self.int_to_time(seconds)\n",
    "\n",
    "\n",
    "start = Time()\n",
    "start.hour = 9\n",
    "start.minute = 45\n",
    "start.second = 0\n",
    "start.print_time()\n",
    "end = start.increment(1337)\n",
    "# The subject, start, gets assigned to the first parameter, self. The argument, 1337, gets\n",
    "# assigned to the second parameter, seconds.\n",
    "# it's equivalent to Time.increment(start, 1337)\n",
    "end.print_time()"
   ]
  },
  {
   "attachments": {},
   "cell_type": "markdown",
   "metadata": {},
   "source": [
    "#### 3. the `__init__` method"
   ]
  },
  {
   "cell_type": "code",
   "execution_count": 13,
   "metadata": {},
   "outputs": [
    {
     "name": "stdout",
     "output_type": "stream",
     "text": [
      "0 0\n",
      "10 0\n",
      "10 20\n"
     ]
    }
   ],
   "source": [
    "class rect:\n",
    "    def __init__(self, width = 0, height = 0):# defult value of width and height is 0\n",
    "        self.width = width\n",
    "        self.height = height\n",
    "\n",
    "\n",
    "r1 = rect()\n",
    "r2 = rect(10)# override the default value of width\n",
    "r3 = rect(10, 20)# override the default value of width and height\n",
    "print(r1.width, r1.height)\n",
    "print(r2.width, r2.height)\n",
    "print(r3.width, r3.height)"
   ]
  },
  {
   "attachments": {},
   "cell_type": "markdown",
   "metadata": {},
   "source": [
    "#### 4. the `__str__` method"
   ]
  },
  {
   "attachments": {},
   "cell_type": "markdown",
   "metadata": {},
   "source": [
    "analogous to '`toString`' in Java"
   ]
  },
  {
   "attachments": {},
   "cell_type": "markdown",
   "metadata": {},
   "source": [
    "if you override `__str__`, you can use `print` to print the string representation of the object."
   ]
  },
  {
   "attachments": {},
   "cell_type": "markdown",
   "metadata": {},
   "source": [
    "#### 5. operator overloading"
   ]
  },
  {
   "attachments": {},
   "cell_type": "markdown",
   "metadata": {},
   "source": [
    "By defining other special methods, you can specify the behavior of operators on programmer-defined types. For example, if you define a method named `__add__` for the Time class, you can use the ` + ` operator on Time objects."
   ]
  },
  {
   "cell_type": "code",
   "execution_count": 15,
   "metadata": {},
   "outputs": [
    {
     "name": "stdout",
     "output_type": "stream",
     "text": [
      "270\n"
     ]
    }
   ],
   "source": [
    "class Test:\n",
    "    def __add__(self, other):\n",
    "        return self.va*10 + other.va*10\n",
    "    \n",
    "t = Test()\n",
    "t.va = 13\n",
    "t2 = Test()\n",
    "t2.va = 14\n",
    "print(t + t2)"
   ]
  },
  {
   "attachments": {},
   "cell_type": "markdown",
   "metadata": {},
   "source": [
    "the `isinstance` function:"
   ]
  },
  {
   "attachments": {},
   "cell_type": "markdown",
   "metadata": {},
   "source": [
    "it takes a value and a class object, and returns True if the value is an instance of the class."
   ]
  },
  {
   "cell_type": "code",
   "execution_count": 16,
   "metadata": {},
   "outputs": [
    {
     "name": "stdout",
     "output_type": "stream",
     "text": [
      "True\n",
      "False\n",
      "False\n",
      "True\n"
     ]
    }
   ],
   "source": [
    "p = Time()\n",
    "q = Test()\n",
    "print(isinstance(p, Time))\n",
    "print(isinstance(q, Time))\n",
    "print(isinstance(p, Test))\n",
    "print(isinstance(q, Test))"
   ]
  },
  {
   "attachments": {},
   "cell_type": "markdown",
   "metadata": {},
   "source": [
    "#### 6.polymorphism"
   ]
  },
  {
   "attachments": {},
   "cell_type": "markdown",
   "metadata": {},
   "source": [
    "Functions that work with several types are called polymorphic."
   ]
  },
  {
   "attachments": {},
   "cell_type": "markdown",
   "metadata": {},
   "source": [
    "In general, if all of the operations inside a function work with a given type, the function works with that type."
   ]
  }
 ],
 "metadata": {
  "kernelspec": {
   "display_name": "base",
   "language": "python",
   "name": "python3"
  },
  "language_info": {
   "codemirror_mode": {
    "name": "ipython",
    "version": 3
   },
   "file_extension": ".py",
   "mimetype": "text/x-python",
   "name": "python",
   "nbconvert_exporter": "python",
   "pygments_lexer": "ipython3",
   "version": "3.10.9"
  },
  "orig_nbformat": 4
 },
 "nbformat": 4,
 "nbformat_minor": 2
}
