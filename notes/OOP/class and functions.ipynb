{
 "cells": [
  {
   "attachments": {},
   "cell_type": "markdown",
   "metadata": {},
   "source": [
    "# classes and functions"
   ]
  },
  {
   "attachments": {},
   "cell_type": "markdown",
   "metadata": {},
   "source": [
    "#### 1 example: a class to proveide current time"
   ]
  },
  {
   "cell_type": "code",
   "execution_count": 23,
   "metadata": {},
   "outputs": [
    {
     "name": "stdout",
     "output_type": "stream",
     "text": [
      "11: 59: 30\n"
     ]
    }
   ],
   "source": [
    "class Time:\n",
    "    \"\"\"this class provide the current time\"\"\"\n",
    "\n",
    "\n",
    "time = Time()\n",
    "time.hour = 11\n",
    "time.minute = 59\n",
    "time.second = 30\n",
    "\n",
    "\n",
    "def print_time(t):\n",
    "    print('%.2d: %.2d: %.2d' % (t.hour, t.minute, t.second))\n",
    "\n",
    "\n",
    "print_time(time)"
   ]
  },
  {
   "attachments": {},
   "cell_type": "markdown",
   "metadata": {},
   "source": [
    "#### 2. pure functions"
   ]
  },
  {
   "attachments": {},
   "cell_type": "markdown",
   "metadata": {},
   "source": [
    "it does not modify any of the objects passed to it as arguments and it has no effect, like displaying a value or getting user input, other than returning a value."
   ]
  },
  {
   "cell_type": "code",
   "execution_count": 24,
   "metadata": {},
   "outputs": [
    {
     "name": "stdout",
     "output_type": "stream",
     "text": [
      "13: 20: 00\n"
     ]
    }
   ],
   "source": [
    "def add(t1, t2):\n",
    "    res = Time()\n",
    "    res.second = (t1.second + t2.second) % 60\n",
    "    temp1 = (int)((t1.second + t2.second)/60)\n",
    "    res.minute = (t1.minute + t2.minute + temp1) % 60\n",
    "    temp2 = (int)((t1.minute + t2.minute + temp1)/60)\n",
    "    res.hour = (t1.hour + t2.hour + temp2) % 24\n",
    "    return res\n",
    "\n",
    "\n",
    "start = Time()\n",
    "start.hour = 11\n",
    "start.minute = 45\n",
    "start.second = 0\n",
    "duration = Time()\n",
    "duration.hour = 1\n",
    "duration.minute = 35\n",
    "duration.second = 0\n",
    "done = add(start, duration)\n",
    "print_time(done)"
   ]
  },
  {
   "attachments": {},
   "cell_type": "markdown",
   "metadata": {},
   "source": [
    "#### 3. modifiers"
   ]
  },
  {
   "attachments": {},
   "cell_type": "markdown",
   "metadata": {},
   "source": [
    "Sometimes it is useful for a function to **modify the objects** it gets as parameters. In that case, the changes are visible to the caller. Functions that work this way are called modifiers."
   ]
  },
  {
   "attachments": {},
   "cell_type": "markdown",
   "metadata": {},
   "source": [
    "In general, I recommend that you write pure functions whenever it is reasonable and resort to modifiers only if there is a compelling advantage. This approach might be called a functional programming style."
   ]
  },
  {
   "attachments": {},
   "cell_type": "markdown",
   "metadata": {},
   "source": []
  }
 ],
 "metadata": {
  "kernelspec": {
   "display_name": "base",
   "language": "python",
   "name": "python3"
  },
  "language_info": {
   "codemirror_mode": {
    "name": "ipython",
    "version": 3
   },
   "file_extension": ".py",
   "mimetype": "text/x-python",
   "name": "python",
   "nbconvert_exporter": "python",
   "pygments_lexer": "ipython3",
   "version": "3.10.12"
  },
  "orig_nbformat": 4
 },
 "nbformat": 4,
 "nbformat_minor": 2
}
