{
 "cells": [
  {
   "cell_type": "markdown",
   "source": [
    "12212635 韩骐骏"
   ],
   "metadata": {
    "collapsed": false
   },
   "id": "2a1e5beac97fd4b5"
  },
  {
   "cell_type": "code",
   "execution_count": 10,
   "outputs": [],
   "source": [
    "class Commodity:\n",
    "    \"\"\"define the attributes of commodity\"\"\"\n",
    "    def __init__(self, c_id, c_name, price):\n",
    "        self.c_id = c_id\n",
    "        self.c_name = c_name\n",
    "        self.price = price\n",
    "\n",
    "    def __str__(self):\n",
    "        return '编号：%s\\t商品名称：%s\\t价格：%d' % (self.c_id, self.c_name, self.price)"
   ],
   "metadata": {
    "collapsed": false,
    "ExecuteTime": {
     "end_time": "2023-10-10T15:54:40.162042300Z",
     "start_time": "2023-10-10T15:54:40.130626Z"
    }
   },
   "id": "c166ff838caae66"
  },
  {
   "cell_type": "code",
   "execution_count": 11,
   "outputs": [],
   "source": [
    "item_one = Commodity('1', 'real analysis', 88)\n",
    "item_two = Commodity('2', 'linear algebra', 92)\n",
    "item_three = Commodity('3', 'probability', 73)\n",
    "item_four = Commodity('4', 'statistics', 66)\n",
    "item_five = Commodity('5', 'complex analysis', 25)\n",
    "item_six = Commodity('6', 'functional analysis', 144)\n",
    "item_seven = Commodity('7', 'topology', 33)\n",
    "item_eight = Commodity('8', 'convex analysis', 122)\n",
    "item_nine = Commodity('9', 'optimization', 11)\n",
    "item_ten = Commodity('10', 'numerical analysis', 110)\n",
    "item_eleven = Commodity('11', 'ordinary differential equations', 44)\n",
    "item_twelve = Commodity('12', 'partial differential equations', 33)\n",
    "item_thirteen = Commodity('13', 'abstract algebra', 22)\n",
    "item_fourteen = Commodity('14', 'number theory', 11)\n",
    "item_fifteen = Commodity('15', 'graph theory', 99)\n",
    "item_sixteen = Commodity('16', 'combinatorics', 88)\n",
    "item_dict = {'01': item_one, '02': item_two, '03': item_three, '04': item_four, '05': item_five, '06': item_six,\n",
    "             '07': item_seven, '08': item_eight, '09': item_nine, '10': item_ten, '11': item_eleven, '12': item_twelve,\n",
    "             '13': item_thirteen, '14': item_fourteen, '15': item_fifteen, '16': item_sixteen}"
   ],
   "metadata": {
    "collapsed": false,
    "ExecuteTime": {
     "end_time": "2023-10-10T15:54:40.219299800Z",
     "start_time": "2023-10-10T15:54:40.158127700Z"
    }
   },
   "id": "25d23081467f09ae"
  },
  {
   "cell_type": "code",
   "execution_count": 12,
   "outputs": [],
   "source": [
    "user_info = {'Tom': '142857', 'Neo': '112358', 'Jeff': '132134', 'Amy': '662724', 'admin': '123456'}"
   ],
   "metadata": {
    "collapsed": false,
    "ExecuteTime": {
     "end_time": "2023-10-10T15:54:40.219299800Z",
     "start_time": "2023-10-10T15:54:40.165683900Z"
    }
   },
   "id": "f5755d6b48603ab4"
  },
  {
   "cell_type": "code",
   "execution_count": 13,
   "outputs": [],
   "source": [
    "class Manager:\n",
    "    def __init__(self, all_in_shop, usr):\n",
    "        self.all_in_shop = all_in_shop\n",
    "        self.usr = usr\n",
    "\n",
    "    def login(self):\n",
    "        print('your name:', end=' ')\n",
    "        name = str(input())\n",
    "        if not name in self.usr.keys():\n",
    "            print('Your name is not in the system, please retry.')\n",
    "            return\n",
    "        print(name)\n",
    "        print('your password:', end=' ')\n",
    "        pwd = str(input())\n",
    "        if pwd != self.usr[name]:\n",
    "            print('Your password is not correct, please retry.')\n",
    "            return\n",
    "        print(pwd)\n",
    "        if name == 'admin' and pwd == '123456':\n",
    "            print(\n",
    "                'Welcome, dear administrator.\\nEnter “1” to display product information. \\nEnter“2” to add product information. \\nEnter “3” to delete product information.\\n Enter“4” t0 quit the system')\n",
    "            while True:\n",
    "                input_num = input()\n",
    "                if input_num == '1':\n",
    "                    self.show_info()\n",
    "                elif input_num == '2':\n",
    "                    self.add_item()\n",
    "                elif input_num == '3':\n",
    "                    self.delete_item()\n",
    "                elif input_num == '4':\n",
    "                    print('System shutdown...')\n",
    "                    return\n",
    "                else:\n",
    "                    print('Number illegal! Please try again.')\n",
    "        else:\n",
    "            message = '''\n",
    "            Welcome to SDM Market. If you want to buy anything, just the instruction to choose items you need.\n",
    "            \n",
    "            Goods are listed in the following content:\n",
    "            '''\n",
    "            print(message)\n",
    "            self.show_info()\n",
    "            while True:\n",
    "                item = input('name of the item:')\n",
    "                if not self.check_exist_by_name(item):\n",
    "                    print('NotFound!')\n",
    "                    continue\n",
    "                print(item)\n",
    "                amount = input('the amount you need:')\n",
    "                if int(amount) <= 0 or (not type(amount) == 'int'):\n",
    "                    print('error, retry')\n",
    "                    continue\n",
    "                print(amount)\n",
    "                pay = (int(amount)) * self.find_by_name(item).c_price\n",
    "                print('You need to Pay: $%d' % pay)\n",
    "                print('Press \"y\" to confirm your purchase, \"n\" to cancel')\n",
    "                command = input()\n",
    "                if command == 'y':\n",
    "                    print('Succeeded!')\n",
    "                    break\n",
    "\n",
    "    def check_exist_by_name(self, name):\n",
    "        for value in self.all_in_shop.values():\n",
    "            if value.c_name == name:\n",
    "                return True\n",
    "            else:\n",
    "                return False\n",
    "\n",
    "    def find_by_name(self, name):\n",
    "        for value in self.all_in_shop.values():\n",
    "            if value.c_name == name:\n",
    "                return value\n",
    "\n",
    "    def show_info(self):\n",
    "        for key in self.all_in_shop.keys():\n",
    "            print(self.all_in_shop[key])\n",
    "\n",
    "    def add_item(self):\n",
    "        print('Enter the id number:', end=' ')\n",
    "        id_new = input()\n",
    "        if any(id_new == key[id] for key in self.all_in_shop):\n",
    "            print('Sorry, id has been used, please try again.')\n",
    "            return\n",
    "        print(id_new)\n",
    "        print('Enter the name:', end=' ')\n",
    "        name_new = input()\n",
    "        print(name_new)\n",
    "        print('Enter the price:', end=' ')\n",
    "        price_new = input()\n",
    "        print(price_new)\n",
    "        new_item = Commodity(id_new, name_new, price_new)\n",
    "        self.all_in_shop[new_item.c_id] = new_item\n",
    "\n",
    "    def delete_item(self):\n",
    "        print('Enter the id number:')\n",
    "        id_to_delete = input()\n",
    "        if not id_to_delete in self.all_in_shop.keys():\n",
    "            print('Sorry,id has not been found')\n",
    "            return\n",
    "        else:\n",
    "            name_deleted = self.all_in_shop.pop(id_to_delete)\n",
    "            print(name_deleted + ' has been deleted')"
   ],
   "metadata": {
    "collapsed": false,
    "ExecuteTime": {
     "end_time": "2023-10-10T15:54:40.219299800Z",
     "start_time": "2023-10-10T15:54:40.211677500Z"
    }
   },
   "id": "7173114e65e13483"
  },
  {
   "cell_type": "code",
   "execution_count": 14,
   "outputs": [],
   "source": [],
   "metadata": {
    "collapsed": false,
    "ExecuteTime": {
     "end_time": "2023-10-10T15:54:40.235252600Z",
     "start_time": "2023-10-10T15:54:40.219299800Z"
    }
   },
   "id": "ae66df5fd2961651"
  },
  {
   "cell_type": "code",
   "execution_count": 15,
   "outputs": [],
   "source": [
    "manager = Manager(item_dict, user_info)"
   ],
   "metadata": {
    "collapsed": false,
    "ExecuteTime": {
     "end_time": "2023-10-10T15:54:40.267267400Z",
     "start_time": "2023-10-10T15:54:40.255841600Z"
    }
   },
   "id": "7adb85bb76e09317"
  },
  {
   "cell_type": "code",
   "execution_count": null,
   "outputs": [
    {
     "name": "stdout",
     "output_type": "stream",
     "text": [
      "your name: "
     ]
    }
   ],
   "source": [
    "manager.login()"
   ],
   "metadata": {
    "collapsed": false,
    "is_executing": true,
    "ExecuteTime": {
     "start_time": "2023-10-10T15:54:51.130399200Z"
    }
   },
   "id": "568fd4cab1e8def4"
  },
  {
   "cell_type": "code",
   "execution_count": null,
   "outputs": [],
   "source": [],
   "metadata": {
    "collapsed": false
   },
   "id": "3cfbac9ab5fb1ba4"
  }
 ],
 "metadata": {
  "kernelspec": {
   "display_name": "Python 3",
   "language": "python",
   "name": "python3"
  },
  "language_info": {
   "codemirror_mode": {
    "name": "ipython",
    "version": 2
   },
   "file_extension": ".py",
   "mimetype": "text/x-python",
   "name": "python",
   "nbconvert_exporter": "python",
   "pygments_lexer": "ipython2",
   "version": "2.7.6"
  }
 },
 "nbformat": 4,
 "nbformat_minor": 5
}
